{
 "cells": [
  {
   "cell_type": "markdown",
   "metadata": {},
   "source": [
    "#### Atividade Fuzzy\n",
    "\n",
    "Imagine que um fazendeiro planeja contratar um técnico para que ele automatize o sistema de irrigação de sua fazenda.\n",
    "\n",
    "<br>\n",
    "<img src='images/fazenda.jpg' width= 500px>\n",
    "\n",
    "Este técnico planeja utilizar sistemas fuzzy para isso.\n",
    "\n",
    "Para isso é importante levar em consideração 2 fatores para a construção desse modelo, a **umidade do solo** e a **temperatura do ar**.\n",
    "Com isso, será possível usar um sistema fuzzy para saber a **duração da irrigação.**\n"
   ]
  },
  {
   "cell_type": "markdown",
   "metadata": {},
   "source": [
    "#### Conjunto de regras\n",
    "\n",
    "O técnico montou um conjunto de regras para fazer a inferência de seu sistema:\n",
    "\n",
    "    Se a umidade do solo é baixa e a temperatura do ar é baixa, então a duração da irrigação deve ser média.\n",
    "\n",
    "    Se a umidade do solo é baixa e a temperatura do ar é média, então a duração da irrigação deve ser longa.\n",
    "\n",
    "    Se a umidade do solo é baixa e a temperatura do ar é alta, então a duração da irrigação deve ser longa.\n",
    "\n",
    "    Se a umidade do solo é média e a temperatura do ar é baixa, então a duração da irrigação deve ser curta.\n",
    "\n",
    "    Se a umidade do solo é média e a temperatura do ar é média, então a duração da irrigação deve ser média.\n",
    "\n",
    "    Se a umidade do solo é média e a temperatura do ar é alta, então a duração da irrigação deve ser longa.\n",
    "\n",
    "    Se a umidade do solo é alta e a temperatura do ar é baixa, então a duração da irrigação deve ser curta.\n",
    "\n",
    "    Se a umidade do solo é alta e a temperatura do ar é média, então a duração da irrigação deve ser curta.\n",
    "\n",
    "    Se a umidade do solo é alta e a temperatura do ar é alta, então a duração da irrigação deve ser média."
   ]
  },
  {
   "cell_type": "markdown",
   "metadata": {},
   "source": [
    "#### Funções de Pertinência\n",
    "\n",
    "##### Antecedentes\n",
    "\n",
    "<img src='images/umidade.png' width= 300px>\n",
    "<img src='images/temperatura.png'width= 300px>\n",
    "\n",
    "##### Consequentes\n",
    "\n",
    "<img src='images/duracao.png' width= 300px>"
   ]
  },
  {
   "cell_type": "markdown",
   "metadata": {},
   "source": [
    "##### Construa o sistema que o técnico imaginou"
   ]
  },
  {
   "cell_type": "markdown",
   "metadata": {},
   "source": [
    "#### Criando antescedentes (entrada/input)"
   ]
  },
  {
   "cell_type": "code",
   "execution_count": null,
   "metadata": {},
   "outputs": [],
   "source": [
    "import numpy as np\n",
    "import skfuzzy as fuzz\n",
    "from skfuzzy import control as ctrl\n",
    "\n",
    "umidade_solo = ctrl.Antecedent(np.arange(0, 101, 1), 'umidade_solo')\n",
    "temperatura_ar = ctrl.Antecedent(np.arange(0, 41, 1), 'temperatura_ar')\n",
    "\n",
    "umidade_solo['baixa'] = fuzz.trimf(umidade_solo.universe, [0, 0, 50])\n",
    "umidade_solo['media'] = fuzz.trimf(umidade_solo.universe, [25, 50, 75])\n",
    "umidade_solo['alta'] = fuzz.trimf(umidade_solo.universe, [50, 100, 100])\n",
    "\n",
    "temperatura_ar['baixa'] = fuzz.trimf(temperatura_ar.universe, [0, 0, 20])\n",
    "temperatura_ar['media'] = fuzz.trimf(temperatura_ar.universe, [10, 20, 30])\n",
    "temperatura_ar['alta'] = fuzz.trimf(temperatura_ar.universe, [20, 40, 40])"
   ]
  },
  {
   "cell_type": "markdown",
   "metadata": {},
   "source": [
    "#### Criando consequent (saída/output)"
   ]
  },
  {
   "cell_type": "code",
   "execution_count": null,
   "metadata": {},
   "outputs": [],
   "source": [
    "duracao_irrigacao = ctrl.Consequent(np.arange(0, 61, 1), 'duracao_irrigacao')\n",
    "\n",
    "duracao_irrigacao['curta'] = fuzz.trimf(duracao_irrigacao.universe, [0, 0, 30])\n",
    "duracao_irrigacao['media'] = fuzz.trimf(duracao_irrigacao.universe, [15, 30, 45])\n",
    "duracao_irrigacao['longa'] = fuzz.trimf(duracao_irrigacao.universe, [30, 60, 60])"
   ]
  },
  {
   "cell_type": "markdown",
   "metadata": {},
   "source": [
    "#### Criando regras"
   ]
  },
  {
   "cell_type": "code",
   "execution_count": null,
   "metadata": {},
   "outputs": [],
   "source": [
    "rule1 = ctrl.Rule(umidade_solo['baixa'] & temperatura_ar['baixa'], duracao_irrigacao['media'])\n",
    "rule2 = ctrl.Rule(umidade_solo['baixa'] & temperatura_ar['media'], duracao_irrigacao['longa'])\n",
    "rule3 = ctrl.Rule(umidade_solo['baixa'] & temperatura_ar['alta'], duracao_irrigacao['longa'])\n",
    "rule4 = ctrl.Rule(umidade_solo['media'] & temperatura_ar['baixa'], duracao_irrigacao['curta'])\n",
    "rule5 = ctrl.Rule(umidade_solo['media'] & temperatura_ar['media'], duracao_irrigacao['media'])\n",
    "rule6 = ctrl.Rule(umidade_solo['media'] & temperatura_ar['alta'], duracao_irrigacao['longa'])\n",
    "rule7 = ctrl.Rule(umidade_solo['alta'] & temperatura_ar['baixa'], duracao_irrigacao['curta'])\n",
    "rule8 = ctrl.Rule(umidade_solo['alta'] & temperatura_ar['media'], duracao_irrigacao['curta'])\n",
    "rule9 = ctrl.Rule(umidade_solo['alta'] & temperatura_ar['alta'], duracao_irrigacao['media'])"
   ]
  },
  {
   "cell_type": "markdown",
   "metadata": {},
   "source": [
    "#### Criando sistema"
   ]
  },
  {
   "cell_type": "code",
   "execution_count": null,
   "metadata": {},
   "outputs": [],
   "source": [
    "sistema_controle = ctrl.ControlSystem([rule1, rule2, rule3, rule4, rule5, rule6, rule7, rule8, rule9])\n",
    "simulacao = ctrl.ControlSystemSimulation(sistema_controle)\n",
    "\n",
    "def calcular_duracao_irrigacao(umidade, temperatura):\n",
    "    simulacao.input['umidade_solo'] = umidade\n",
    "    simulacao.input['temperatura_ar'] = temperatura\n",
    "    simulacao.compute()\n",
    "    return simulacao.output['duracao_irrigacao']\n",
    "\n",
    "umidade = 30 \n",
    "temperatura = 25 \n",
    "duracao = calcular_duracao_irrigacao(umidade, temperatura)\n",
    "print(f'Duração da irrigação: {duracao:.2f} minutos')\n",
    "\n",
    "\n",
    "# Testando o sistema de controle\n",
    "valores_teste = [\n",
    "    (20, 15),\n",
    "    (60, 25),\n",
    "    (80, 35)\n",
    "]\n",
    "\n",
    "for umidade, temperatura in valores_teste:\n",
    "    duracao = calcular_duracao_irrigacao(umidade, temperatura)\n",
    "    print(f'Umidade do solo: {umidade}%, Temperatura do ar: {temperatura}°C, Duração da irrigação: {duracao:.2f} minutos')\n"
   ]
  }
 ],
 "metadata": {
  "kernelspec": {
   "display_name": ".env",
   "language": "python",
   "name": "python3"
  },
  "language_info": {
   "name": "python",
   "version": "3.12.2"
  }
 },
 "nbformat": 4,
 "nbformat_minor": 2
}
